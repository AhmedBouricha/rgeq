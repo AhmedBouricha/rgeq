{
 "cells": [
  {
   "cell_type": "code",
   "execution_count": null,
   "id": "db060868",
   "metadata": {},
   "outputs": [],
   "source": [
    "def multiply_list(items):\n",
    "    a = 1\n",
    "    for x in items:\n",
    "        a *= x\n",
    "    return a\n",
    "\n",
    "b = []\n",
    "n = int(input(\"Entrez le nombre d'éléments de la liste: \"))\n",
    "\n",
    "for i in range(0, n):\n",
    "    c = int(input())\n",
    "    b.append(c)\n",
    "\n",
    "print(\"La liste est: \", b)\n",
    "print(\"Le résultat est:\", multiply_list(b))"
   ]
  },
  {
   "cell_type": "code",
   "execution_count": 9,
   "id": "af2497f1",
   "metadata": {},
   "outputs": [
    {
     "name": "stdout",
     "output_type": "stream",
     "text": [
      "[(2, 1), (1, 2), (2, 3), (4, 4), (2, 5)]\n"
     ]
    }
   ],
   "source": [
    "sample_list = [(2, 5), (1, 2), (4, 4), (2, 3), (2, 1)]\n",
    "sorted_list = sorted(sample_list, key=lambda x: x[-1])\n",
    "\n",
    "print(sorted_list)"
   ]
  },
  {
   "cell_type": "code",
   "execution_count": 10,
   "id": "90dc9fae",
   "metadata": {},
   "outputs": [
    {
     "name": "stdout",
     "output_type": "stream",
     "text": [
      "{'a': 400, 'b': 400, 'c': 300, 'd': 400}\n"
     ]
    }
   ],
   "source": [
    "d1 = {'a': 100, 'b': 200, 'c': 300}\n",
    "d2 = {'a': 300, 'b': 200, 'd': 400}\n",
    "\n",
    "result = {}\n",
    "for key in d1.keys() :\n",
    "    if key in d2:\n",
    "        result[key] = d1[key] + d2[key]\n",
    "    else :\n",
    "        result[key] = d1[key]\n",
    "for key in d2.keys() :\n",
    "    if key not in result :\n",
    "        result[key] =d2[key]\n",
    "print(result)"
   ]
  },
  {
   "cell_type": "code",
   "execution_count": 7,
   "id": "a1213fb1",
   "metadata": {},
   "outputs": [
    {
     "name": "stdout",
     "output_type": "stream",
     "text": [
      "entrer un entier : 5\n",
      "{1: 1, 2: 4, 3: 9, 4: 16}\n"
     ]
    }
   ],
   "source": [
    "n = int(input(\"entrer un entier : \"))\n",
    "x = {}\n",
    "for i in range (1,n):\n",
    "    x[i] = i*i\n",
    "print(x)"
   ]
  },
  {
   "cell_type": "code",
   "execution_count": 23,
   "id": "e1093135",
   "metadata": {},
   "outputs": [
    {
     "name": "stdout",
     "output_type": "stream",
     "text": [
      "[('item3', '24.5'), ('item2', '15.10'), ('item1', '12.20')]\n"
     ]
    }
   ],
   "source": [
    "tuples = [('item1', '12.20'), ('item2', '15.10'), ('item3', '24.5')]\n",
    "sorted_tuples = sorted(tuples, key=lambda x: float(x[1]),reverse=True)\n",
    "print(sorted_tuples)"
   ]
  },
  {
   "cell_type": "code",
   "execution_count": 16,
   "id": "ae8424da",
   "metadata": {},
   "outputs": [
    {
     "name": "stdout",
     "output_type": "stream",
     "text": [
      "1\n",
      "2\n",
      "3\n",
      "4\n",
      "Ensemble après ajout: {1, 2, 3, 4, 5, 6}\n",
      "Ensemble après suppression: {1, 3, 4, 5, 6}\n"
     ]
    }
   ],
   "source": [
    "x = {1, 2, 3, 4}\n",
    "for i in x:\n",
    "    print(i)\n",
    "x.add(5)\n",
    "x.add(6)\n",
    "print(\"Ensemble après ajout:\", x)\n",
    "x.remove(2)\n",
    "x.discard(3)\n",
    "print(\"Ensemble après suppression:\", x)"
   ]
  },
  {
   "cell_type": "code",
   "execution_count": null,
   "id": "450d4818",
   "metadata": {},
   "outputs": [],
   "source": []
  }
 ],
 "metadata": {
  "kernelspec": {
   "display_name": "Python 3 (ipykernel)",
   "language": "python",
   "name": "python3"
  },
  "language_info": {
   "codemirror_mode": {
    "name": "ipython",
    "version": 3
   },
   "file_extension": ".py",
   "mimetype": "text/x-python",
   "name": "python",
   "nbconvert_exporter": "python",
   "pygments_lexer": "ipython3",
   "version": "3.10.9"
  }
 },
 "nbformat": 4,
 "nbformat_minor": 5
}
