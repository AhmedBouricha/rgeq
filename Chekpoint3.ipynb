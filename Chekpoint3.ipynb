{
 "cells": [
  {
   "cell_type": "code",
   "execution_count": null,
   "id": "11384ea3",
   "metadata": {},
   "outputs": [],
   "source": [
    "def multiply_list(items):\n",
    "    a = 1\n",
    "    for x in items:\n",
    "        a *= x\n",
    "    return a\n",
    "\n",
    "b = []\n",
    "n = int(input(\"Entrez le nombre d'éléments de la liste: \"))\n",
    "\n",
    "for i in range(0, n):\n",
    "    c = int(input())\n",
    "    b.append(c)\n",
    "\n",
    "print(\"La liste est: \", b)\n",
    "print(\"Le résultat est:\", multiply_list(b))\n"
   ]
  },
  {
   "cell_type": "code",
   "execution_count": null,
   "id": "ccb4cc46",
   "metadata": {},
   "outputs": [],
   "source": []
  }
 ],
 "metadata": {
  "kernelspec": {
   "display_name": "Python 3 (ipykernel)",
   "language": "python",
   "name": "python3"
  },
  "language_info": {
   "codemirror_mode": {
    "name": "ipython",
    "version": 3
   },
   "file_extension": ".py",
   "mimetype": "text/x-python",
   "name": "python",
   "nbconvert_exporter": "python",
   "pygments_lexer": "ipython3",
   "version": "3.10.9"
  }
 },
 "nbformat": 4,
 "nbformat_minor": 5
}
