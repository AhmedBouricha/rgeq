{
 "cells": [
  {
   "cell_type": "code",
   "execution_count": 3,
   "id": "915d64ef",
   "metadata": {},
   "outputs": [],
   "source": [
    "import tkinter as tk\n",
    "\n",
    "def fahrenheit_to_celsius():\n",
    "    # Get the temperature value entered in the Fahrenheit entry widget\n",
    "    fahrenheit = float(ent_temperature.get())\n",
    "\n",
    "    # Perform the conversion from Fahrenheit to Celsius\n",
    "    celsius = (fahrenheit - 32) * 5/9\n",
    "    \n",
    "    lbl_result[\"text\"] = f\"{round(celsius, 2)}\\N{DEGREE CELSIUS}\"\n",
    "\n",
    "# Create the main window\n",
    "window = tk.Tk()\n",
    "window.title(\"Convertisseur de température\")\n",
    "window.resizable(width=False, height=False)\n",
    "\n",
    "# Create a frame to hold the Fahrenheit entry widget and label\n",
    "frm_entry = tk.Frame(master=window)\n",
    "\n",
    "# Create an entry widget to accept the temperature in Fahrenheit\n",
    "ent_temperature = tk.Entry(master=frm_entry, width=10)\n",
    "\n",
    "# Create a label widget to display the Fahrenheit symbol\n",
    "lbl_temp = tk.Label(master=frm_entry, text=\"\\N{DEGREE FAHRENHEIT}\")\n",
    "\n",
    "# Use grid() geometry manager to arrange the entry and label widgets in the frame\n",
    "ent_temperature.grid(row=0, column=0, sticky=\"e\")\n",
    "lbl_temp.grid(row=0, column=1, sticky=\"w\")\n",
    "\n",
    "# Create a button widget to initiate the conversion process\n",
    "btn_convert = tk.Button(master=window, text=\"\\N{RIGHTWARDS BLACK ARROW}\", command=fahrenheit_to_celsius)\n",
    "\n",
    "# Create a label widget to display the result in Celsius\n",
    "lbl_result = tk.Label(master=window, text=\"\\N{DEGREE CELSIUS}\")\n",
    "\n",
    "# Use grid() geometry manager to arrange the frame, button, and result label widgets\n",
    "frm_entry.grid(row=0, column=0, padx=10)\n",
    "btn_convert.grid(row=0, column=1, pady=10)\n",
    "lbl_result.grid(row=0, column=2, padx=10)\n",
    "\n",
    "window.mainloop()"
   ]
  },
  {
   "cell_type": "code",
   "execution_count": null,
   "id": "7dd95ff8",
   "metadata": {},
   "outputs": [],
   "source": []
  }
 ],
 "metadata": {
  "kernelspec": {
   "display_name": "Python 3 (ipykernel)",
   "language": "python",
   "name": "python3"
  },
  "language_info": {
   "codemirror_mode": {
    "name": "ipython",
    "version": 3
   },
   "file_extension": ".py",
   "mimetype": "text/x-python",
   "name": "python",
   "nbconvert_exporter": "python",
   "pygments_lexer": "ipython3",
   "version": "3.10.9"
  }
 },
 "nbformat": 4,
 "nbformat_minor": 5
}
