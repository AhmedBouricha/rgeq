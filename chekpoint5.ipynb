{
 "cells": [
  {
   "cell_type": "code",
   "execution_count": 9,
   "id": "2859ae32",
   "metadata": {},
   "outputs": [
    {
     "name": "stdout",
     "output_type": "stream",
     "text": [
      "(1, 2, 3)\n",
      "Aire du rectangle: 12\n",
      "Périmètre du rectangle: 14\n",
      "Aire du cercle: 78.53981633974483\n",
      "Périmètre du cercle: 31.41592653589793\n",
      "Le point (2, 2) est à l'intérieur du cercle: True\n",
      "Solde initial : 1000\n",
      "Solde après dépôt : 1500\n",
      "Solde après retrait : 1300\n",
      "Solde insuffisant.\n"
     ]
    }
   ],
   "source": [
    "class Point3D:\n",
    "    def __init__(self, x, y, z):\n",
    "        # renvoit des valeurs (x,y,z)\n",
    "        self.x = x\n",
    "        self.y = y\n",
    "        self.z = z\n",
    "\n",
    "# Création d'une instance de la classe Point3D avec les valeurs x=1, y=2 et z=3\n",
    "my_point = Point3D(1, 2, 3)\n",
    "\n",
    "# afficher la variable my_point\n",
    "print((my_point.x, my_point.y, my_point.z))\n"
   ]
  },
  {
   "cell_type": "code",
   "execution_count": null,
   "id": "1ab3d420",
   "metadata": {},
   "outputs": [],
   "source": [
    "class Rectangle:\n",
    "    def __init__(self, longueur, largeur):\n",
    "        self.longueur = longueur\n",
    "        self.largeur = largeur\n",
    "    \n",
    "    def aire(self):\n",
    "        # Calcul de l'aire en multipliant la longueur par la largeur\n",
    "        return self.longueur * self.largeur\n",
    "    \n",
    "    def perimetre(self):\n",
    "        # Calcul du périmètre en utilisant la formule 2 * (longueur + largeur)\n",
    "        return 2 * (self.longueur + self.largeur)\n",
    "\n",
    "# Création d'une instance de la classe Rectangle avec longueur=4 et largeur=3\n",
    "my_rectangle = Rectangle(4, 3)\n",
    "\n",
    "# Calcul de l'aire du rectangle\n",
    "surface = my_rectangle.aire()\n",
    "\n",
    "# Calcul du périmètre du rectangle\n",
    "perimetre = my_rectangle.perimetre()\n",
    "\n",
    "# afficher le resultat\n",
    "print(\"Aire du rectangle:\", surface)\n",
    "print(\"Périmètre du rectangle:\", perimetre)\n",
    "\n",
    "from math import pi\n"
   ]
  },
  {
   "cell_type": "code",
   "execution_count": null,
   "id": "ceb5a180",
   "metadata": {},
   "outputs": [],
   "source": [
    "class Circle:\n",
    "    def __init__(self, centre, rayon):\n",
    "        self.centre = centre\n",
    "        self.rayon = rayon\n",
    "    \n",
    "    def aire(self):\n",
    "        # Calcul de l'aire du cercle en utilisant la formule pi * rayon^2\n",
    "        return pi * self.rayon**2\n",
    "    \n",
    "    def perimetre(self):\n",
    "        # Calcul du périmètre du cercle en utilisant la formule 2 * pi * rayon\n",
    "        return 2 * pi * self.rayon\n",
    "    \n",
    "    def inside(self, point):\n",
    "        # Calcul de la distance entre le centre du cercle et le point donné\n",
    "        distance = ((self.centre[0] - point[0])**2 + (self.centre[1] - point[1])**2)**0.5\n",
    "        # Vérification si la distance est inférieure ou égale au rayon du cercle\n",
    "        return distance <= self.rayon\n",
    "\n",
    "# Création d'une instance de la classe Circle avec le centre (0, 0) et le rayon 5\n",
    "my_circle = Circle((0, 0), 5)\n",
    "\n",
    "# Calcul de l'aire du cercle\n",
    "aire = my_circle.aire()\n",
    "\n",
    "# Calcul du périmètre du cercle\n",
    "perimetre = my_circle.perimetre()\n",
    "\n",
    "# Test si le point (2, 2) est à l'intérieur du cercle\n",
    "point = (2, 2)\n",
    "is_inside = my_circle.inside(point)\n",
    "\n",
    "# afficher le resultat\n",
    "print(\"Aire du cercle:\", aire)\n",
    "print(\"Périmètre du cercle:\", perimetre)\n",
    "print(\"Le point\", point, \"est à l'intérieur du cercle:\", is_inside)\n",
    "\n"
   ]
  },
  {
   "cell_type": "code",
   "execution_count": null,
   "id": "749d3639",
   "metadata": {},
   "outputs": [],
   "source": [
    "class Bank:\n",
    "    def __init__(self, balance):\n",
    "        self.balance = balance\n",
    "\n",
    "    def deposit(self, amount):\n",
    "        self.balance += amount\n",
    "\n",
    "    def withdraw(self, amount):\n",
    "        if amount <= self.balance:\n",
    "            self.balance -= amount\n",
    "        else:\n",
    "            print(\"Solde insuffisant.\")\n",
    "\n",
    "# Exemple d'utilisation de la classe Bank\n",
    "my_bank = Bank(1000)\n",
    "print(\"Solde initial :\", my_bank.balance)\n",
    "my_bank.deposit(500)\n",
    "print(\"Solde après dépôt :\", my_bank.balance)\n",
    "my_bank.withdraw(200)\n",
    "print(\"Solde après retrait :\", my_bank.balance)\n",
    "my_bank.withdraw(2000)  # Tentative de retrait avec un solde insuffisant\n",
    "\n"
   ]
  }
 ],
 "metadata": {
  "kernelspec": {
   "display_name": "Python 3 (ipykernel)",
   "language": "python",
   "name": "python3"
  },
  "language_info": {
   "codemirror_mode": {
    "name": "ipython",
    "version": 3
   },
   "file_extension": ".py",
   "mimetype": "text/x-python",
   "name": "python",
   "nbconvert_exporter": "python",
   "pygments_lexer": "ipython3",
   "version": "3.10.9"
  }
 },
 "nbformat": 4,
 "nbformat_minor": 5
}
