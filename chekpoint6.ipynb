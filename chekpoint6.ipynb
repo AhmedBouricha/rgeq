{
 "cells": [
  {
   "cell_type": "code",
   "execution_count": 2,
   "id": "380fa05d",
   "metadata": {},
   "outputs": [
    {
     "name": "stdout",
     "output_type": "stream",
     "text": [
      "Entrez le nombre d'étudiants : 2\n",
      "Entrez le nombre de matières : 1\n",
      "Entrez les notes pour l'étudiant 1 :\n",
      "Matière 1 : 1\n",
      "Entrez les notes pour l'étudiant 2 :\n",
      "Matière 1 : 2\n",
      "Étudiant\tTotal des notes\tPourcentage\tGrade\n",
      "1\t\t1.0\t\t1.0%\t\tF\n",
      "2\t\t2.0\t\t2.0%\t\tF\n"
     ]
    }
   ],
   "source": [
    "import numpy as np\n",
    "\n",
    "# Demander à l'utilisateur d'entrer le nombre d'étudiants et le nombre de matières\n",
    "num_students = int(input(\"Entrez le nombre d'étudiants : \"))\n",
    "num_subjects = int(input(\"Entrez le nombre de matières : \"))\n",
    "\n",
    "# Créer un tableau Numpy pour stocker les notes de chaque étudiant dans chaque matière\n",
    "marks = np.zeros((num_students, num_subjects))\n",
    "\n",
    "# Demander à l'utilisateur d'entrer les notes de chaque étudiant pour chaque matière\n",
    "for i in range(num_students):\n",
    "    print(f\"Entrez les notes pour l'étudiant {i+1} :\")\n",
    "    for j in range(num_subjects):\n",
    "        marks[i][j] = float(input(f\"Matière {j+1} : \"))\n",
    "\n",
    "# Calculer les totaux des notes pour chaque étudiant en utilisant la fonction sum() de Numpy\n",
    "total_marks = np.sum(marks, axis=1)\n",
    "\n",
    "# Calculer les pourcentages pour chaque étudiant\n",
    "percentages = (total_marks / (num_subjects * 100)) * 100\n",
    "\n",
    "# Calculer les grades pour chaque étudiant en utilisant np.where\n",
    "grades = np.where(percentages >= 90, ['A+'],\n",
    "                  np.where(percentages >= 80, 'A',\n",
    "                           np.where(percentages >= 70, 'B+',\n",
    "                                    np.where(percentages >= 60, 'B',\n",
    "                                             np.where(percentages >= 50, 'C', 'F')))))\n",
    "\n",
    "# Afficher les résultats pour chaque étudiant dans un format tabulaire\n",
    "print(\"Étudiant\\tTotal des notes\\tPourcentage\\tGrade\")\n",
    "for i in range(num_students):\n",
    "    print(f\"{i+1}\\t\\t{total_marks[i]}\\t\\t{percentages[i]}%\\t\\t{grades[i]}\")\n"
   ]
  },
  {
   "cell_type": "code",
   "execution_count": null,
   "id": "ee1708f8",
   "metadata": {},
   "outputs": [],
   "source": []
  },
  {
   "cell_type": "code",
   "execution_count": null,
   "id": "46e046a3",
   "metadata": {},
   "outputs": [],
   "source": []
  }
 ],
 "metadata": {
  "kernelspec": {
   "display_name": "Python 3 (ipykernel)",
   "language": "python",
   "name": "python3"
  },
  "language_info": {
   "codemirror_mode": {
    "name": "ipython",
    "version": 3
   },
   "file_extension": ".py",
   "mimetype": "text/x-python",
   "name": "python",
   "nbconvert_exporter": "python",
   "pygments_lexer": "ipython3",
   "version": "3.10.9"
  }
 },
 "nbformat": 4,
 "nbformat_minor": 5
}
