{
 "cells": [
  {
   "cell_type": "code",
   "execution_count": null,
   "id": "380fa05d",
   "metadata": {},
   "outputs": [],
   "source": [
    "# Demande à l'utilisateur d'entrer le nombre d'élèves et le nombre de matières\n",
    "nombre_eleves = int(input(\"Entrez le nombre d'élèves : \"))\n",
    "nombre_matieres = int(input(\"Entrez le nombre de matières : \"))\n",
    "\n",
    "# Crée des listes pour stocker les notes, les totaux, les pourcentages et les notes finales\n",
    "notes = []\n",
    "totaux = []\n",
    "pourcentages = []\n",
    "notes_finales = []\n",
    "\n",
    "# Demande à l'utilisateur d'entrer les notes de chaque élève dans chaque matière\n",
    "for i in range(nombre_eleves):\n",
    "    print(f\"Notes pour l'élève {i+1}:\")\n",
    "    eleve_notes = []\n",
    "    for j in range(nombre_matieres):\n",
    "        note = float(input(f\"Note de la matière {j+1} : \"))\n",
    "        \n",
    "        eleve_notes.append(note)\n",
    "        \n",
    "    notes.append(eleve_notes)\n",
    "\n",
    "# Calcule le total des notes de chaque élève et le pourcentage\n",
    "for eleve_notes in notes:\n",
    "    total = sum(eleve_notes)\n",
    "    pourcentage = (total / (nombre_matieres * 100)) * 100\n",
    "    totaux.append(total)\n",
    "    pourcentages.append(pourcentage)\n",
    "\n",
    "    # Calcule la note finale de chaque élève\n",
    "    if pourcentage >= 90:\n",
    "        note = 'A+'\n",
    "    elif pourcentage >= 80:\n",
    "        note = 'A'\n",
    "    elif pourcentage >= 70:\n",
    "        note = 'B+'\n",
    "    elif pourcentage >= 60:\n",
    "        note = 'B'\n",
    "    elif pourcentage >= 50:\n",
    "        note = 'C'\n",
    "    else:\n",
    "        note = 'F'\n",
    "    notes_finales.append(note)\n",
    "\n",
    "# Affiche le résultat de chaque élève\n",
    "for i in range(nombre_eleves):\n",
    "    print(f\"Résultat pour l'élève {i+1}:\")\n",
    "    print(\"Total des notes :\", totaux[i])\n",
    "    print(\"Pourcentage :\", pourcentages[i], \"%\")\n",
    "    print(\"Note :\", notes_finales[i])\n"
   ]
  },
  {
   "cell_type": "code",
   "execution_count": null,
   "id": "ee1708f8",
   "metadata": {},
   "outputs": [],
   "source": []
  },
  {
   "cell_type": "code",
   "execution_count": null,
   "id": "46e046a3",
   "metadata": {},
   "outputs": [],
   "source": []
  }
 ],
 "metadata": {
  "kernelspec": {
   "display_name": "Python 3 (ipykernel)",
   "language": "python",
   "name": "python3"
  },
  "language_info": {
   "codemirror_mode": {
    "name": "ipython",
    "version": 3
   },
   "file_extension": ".py",
   "mimetype": "text/x-python",
   "name": "python",
   "nbconvert_exporter": "python",
   "pygments_lexer": "ipython3",
   "version": "3.10.9"
  }
 },
 "nbformat": 4,
 "nbformat_minor": 5
}
