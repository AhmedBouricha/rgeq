{
 "cells": [
  {
   "cell_type": "code",
   "execution_count": null,
   "id": "80353ae8",
   "metadata": {},
   "outputs": [],
   "source": [
    "f = open(\"file.txt\",'r',encoding = 'utf-8')\n",
    "f.read()\n",
    "f.close()"
   ]
  },
  {
   "cell_type": "code",
   "execution_count": null,
   "id": "d7230ed9",
   "metadata": {},
   "outputs": [],
   "source": [
    "f = open(\"file.txt\",'r',encoding = 'utf-8')\n",
    "f.readline()\n",
    "f.close()"
   ]
  },
  {
   "cell_type": "code",
   "execution_count": null,
   "id": "3791834d",
   "metadata": {},
   "outputs": [],
   "source": [
    "f = open(\"file.txt\",'r',encoding = 'utf-8')\n",
    "last_n_lines = lines[-n:]\n",
    "\n",
    "for line in last_n_lines:\n",
    "    print(line.strip())"
   ]
  },
  {
   "cell_type": "code",
   "execution_count": null,
   "id": "88f81f0f",
   "metadata": {},
   "outputs": [],
   "source": [
    "def count_words(file_path):\n",
    "    with open(file_path, 'r', encoding='utf-8') as file:\n",
    "        content = file.read()\n",
    "        words = content.split()\n",
    "        return len(words)\n",
    "file_path = input(\"Enter the path to the text file: \")\n",
    "word_count = count_words(file_path)\n",
    "print(\"Number of words:\", word_count)"
   ]
  }
 ],
 "metadata": {
  "kernelspec": {
   "display_name": "Python 3 (ipykernel)",
   "language": "python",
   "name": "python3"
  },
  "language_info": {
   "codemirror_mode": {
    "name": "ipython",
    "version": 3
   },
   "file_extension": ".py",
   "mimetype": "text/x-python",
   "name": "python",
   "nbconvert_exporter": "python",
   "pygments_lexer": "ipython3",
   "version": "3.10.9"
  }
 },
 "nbformat": 4,
 "nbformat_minor": 5
}
