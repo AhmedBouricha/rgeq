{
 "cells": [
  {
   "cell_type": "code",
   "execution_count": 18,
   "id": "c1eedb01",
   "metadata": {},
   "outputs": [
    {
     "name": "stdout",
     "output_type": "stream",
     "text": [
      "Entrez l'opérateur (+, -, *, /) : +\n",
      "9\n"
     ]
    }
   ],
   "source": [
    "def calculator (num1,num2) :\n",
    "\n",
    "\n",
    "    operateur = input(\"Entrez l'opérateur (+, -, *, /) : \") # Demande à l'utilisateur d'entrer l'opérateur\n",
    "\n",
    "    if operateur == \"+\" :\n",
    "        resultat = num1 + num2\n",
    "    elif operateur == \"-\" :\n",
    "        resultat = num1 - num2                # Vérifie l'opérateur et effectue l'opération correspondante\n",
    "    elif operateur == \"*\" :\n",
    "        resultat = num1 * num2\n",
    "    elif operateur == \"/\" :\n",
    "        resultat = num1 / num2\n",
    "    return resultat\n",
    "\n",
    "print(calculator(4,5))"
   ]
  },
  {
   "cell_type": "code",
   "execution_count": null,
   "id": "347ead3d",
   "metadata": {},
   "outputs": [],
   "source": []
  }
 ],
 "metadata": {
  "kernelspec": {
   "display_name": "Python 3 (ipykernel)",
   "language": "python",
   "name": "python3"
  },
  "language_info": {
   "codemirror_mode": {
    "name": "ipython",
    "version": 3
   },
   "file_extension": ".py",
   "mimetype": "text/x-python",
   "name": "python",
   "nbconvert_exporter": "python",
   "pygments_lexer": "ipython3",
   "version": "3.10.9"
  }
 },
 "nbformat": 4,
 "nbformat_minor": 5
}
